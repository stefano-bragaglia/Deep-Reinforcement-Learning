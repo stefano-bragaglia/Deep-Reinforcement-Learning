{
 "cells": [
  {
   "metadata": {
    "collapsed": true
   },
   "cell_type": "markdown",
   "source": [
    "# 2 | OpenAI Gym API and Gymnasium\n",
    "\n",
    "This chapter introduces Gymnasium, a library for **Reinforcement Learning (RL)**.\n",
    "Gymnasium is a fork of OpenAI Gym implementing the same Gym API.\n",
    "This package provides a uniform API for agents and environments.\n",
    "You will learn to implement a basic RL agent and gain familiarity with the API."
   ],
   "id": "defb4fb4f83c4150"
  },
  {
   "metadata": {},
   "cell_type": "markdown",
   "source": [
    "## The Anatomy of the Agent\n",
    "\n",
    "The two fundamental concepts in RL learn in previous chapter are:\n",
    "\n",
    "* **The agent:** an entity in an environment with an active role, or a piece of code implementing some policy.\n",
    "  The policy decides what action is needed at every time step, given the observations.\n",
    "* **The environment:** anything in the world except the agent, providing observations and giving reward.\n",
    "  The environment changes its state based on the agent's actions.\n",
    "\n",
    "See below a simple Python toy example of agent and environment that give the agent random rewards for a limited number of steps, regardless of the agent's actions."
   ],
   "id": "bf445d801965eeb0"
  },
  {
   "metadata": {
    "ExecuteTime": {
     "end_time": "2025-10-28T21:22:37.047333Z",
     "start_time": "2025-10-28T21:22:37.039043Z"
    }
   },
   "cell_type": "code",
   "source": [
    "import random as rnd\n",
    "\n",
    "\n",
    "class Environment:\n",
    "    \"\"\"\n",
    "    This class represents an environment: the portion of the universe other than the agent.\n",
    "    It contains a state, returns observations, lists actions, determines when episodes are over and performs agent's actions returning their reward.\n",
    "    \"\"\"\n",
    "\n",
    "    def __init__(self, num_steps: int = 10):\n",
    "        \"\"\"\n",
    "        Initialize the environment internal state.\n",
    "\n",
    "        The state consists in:\n",
    "        - a constant stating the maximum number of steps that the agent is allowed to take in the environment\n",
    "        - a counter initialized to the maximum number of steps that limits the number of steps left.\n",
    "\n",
    "        The constant and the counter are initialized to the given number of steps (default: 10).\n",
    "\n",
    "        :param num_steps: the maximum number of steps initially left (default: 10)\n",
    "        \"\"\"\n",
    "        self.steps_left = self.max_steps = num_steps\n",
    "\n",
    "    def get_observation(self) -> list[float]:\n",
    "        \"\"\"\n",
    "        Return the environment's current observation to the agent.\n",
    "\n",
    "        The observation is some function of the environment's internal state, typically a list of floats.\n",
    "        In this instance, it returns the number of steps that the agent has taken so far.\n",
    "\n",
    "        :return: the environment's current observation as floats\n",
    "        \"\"\"\n",
    "        return [float(self.steps_left - self.max_steps)]\n",
    "\n",
    "    def get_actions(self) -> list[int]:\n",
    "        \"\"\"\n",
    "        Return the list of unique actions that the agent can execute on the environment.\n",
    "\n",
    "\n",
    "        The set of actions does not change over time, but some actions are not reachable from some states.\n",
    "        In this simple example, the only two actions are `wait` and `move` encoded as integers `[0, 1]`.\n",
    "\n",
    "        :return: the list of unique actions that the agent can execute on the environment\n",
    "        \"\"\"\n",
    "        return [0, 1]\n",
    "\n",
    "    def is_done(self) -> bool:\n",
    "        \"\"\"\n",
    "        Signal the end of the episode to the agent (no steps left).\n",
    "\n",
    "        :return: `True` if no further steps are left, `False` otherwise\n",
    "        \"\"\"\n",
    "        return self.steps_left == 0\n",
    "\n",
    "    def action(self, action: int) -> float:\n",
    "        \"\"\"\n",
    "        Handle the agent's action and return the reward.\n",
    "\n",
    "        In this example, the reward is random and the action is discarded.\n",
    "        Moreover, the count of steps is updated and an exception is raised when the episode is over.\n",
    "\n",
    "        :param action: the action that the agent intends to perform on the environment\n",
    "        :return: the reward associated to the action performed by the agent on the environment\n",
    "        \"\"\"\n",
    "        if self.is_done():\n",
    "            raise Exception(\"Game is over\")\n",
    "\n",
    "        self.steps_left -= 1\n",
    "\n",
    "        return rnd.random()\n",
    "\n",
    "\n",
    "class Agent:\n",
    "\n",
    "    def __init__(self):\n",
    "        \"\"\"\n",
    "        Initialize the agent by setting its reward accumulator to an empty vector.\n",
    "        \"\"\"\n",
    "        self.rewards = []\n",
    "\n",
    "    @property\n",
    "    def total_reward(self) -> float:\n",
    "        \"\"\"\n",
    "        Return the total reward accumulated by the agent during the episode.\n",
    "\n",
    "        The total reward is computed by summing all the rewards accumulated so far by the agent during the episode.\n",
    "\n",
    "        :return: the sum of the rewards accumulated so far during the episode\n",
    "        \"\"\"\n",
    "        return sum(self.rewards)\n",
    "\n",
    "    def step(self, env: Environment) -> None:\n",
    "        \"\"\"\n",
    "        Perform one step in the environment.\n",
    "\n",
    "        A step consists in:\n",
    "        - observing the environment\n",
    "        - making a decision about the action to take based on the observation\n",
    "        - submitting the action to the environment\n",
    "        - accumulating the reward for the current step.\n",
    "\n",
    "        In this example the agent is dull and ignores the observations when deciding which action to take.\n",
    "        Instead, every action is selected randomly.\n",
    "\n",
    "        :param env: the environment the agent is operating on\n",
    "        \"\"\"\n",
    "        observation = env.get_observation()\n",
    "\n",
    "        actions = env.get_actions()\n",
    "        if observation:\n",
    "            selected_action = rnd.choice(actions)\n",
    "        else:\n",
    "            selected_action = rnd.choice(actions)\n",
    "        reward = env.action(selected_action)\n",
    "        self.rewards.append(reward)\n",
    "\n",
    "if __name__ == '__main__':\n",
    "    # Main method to run the example\n",
    "    env = Environment()\n",
    "    agent = Agent()\n",
    "\n",
    "    while not env.is_done():\n",
    "        agent.step(env)\n",
    "\n",
    "    print(\"Total reward is: %.4f\" % agent.total_reward)\n"
   ],
   "id": "ae18642c5b13ca15",
   "outputs": [
    {
     "name": "stdout",
     "output_type": "stream",
     "text": [
      "Total reward is: 4.9505\n"
     ]
    }
   ],
   "execution_count": 8
  },
  {
   "metadata": {
    "ExecuteTime": {
     "end_time": "2025-10-28T21:22:38.157952Z",
     "start_time": "2025-10-28T21:22:38.156085Z"
    }
   },
   "cell_type": "markdown",
   "source": [
    "Despite its simplicity, the code above illustrates the important basic concepts of RL models.\n",
    "Typically, the environment is extremely complex such as a physics model, and the agent a large **Neural Network (NN)** implementing the latest RL algorithm.\n",
    "Yet, the basic pattern is still the same: at every step the agent gets an observation from the environment, does its calculations, and chooses the action to take.\n",
    "The result of this action will be a reward and a new observation.\n",
    "\n",
    "Since the pattern is always the same, using an existing library is convenient to avoid the boilerplate."
   ],
   "id": "99f838e5c822ce2a"
  },
  {
   "metadata": {},
   "cell_type": "markdown",
   "source": "",
   "id": "af7ec263e4e2059"
  },
  {
   "metadata": {},
   "cell_type": "markdown",
   "source": [
    "Adding the dependancy to `gymnasium[classic-control]` we get the error message that the dependency PyGame cannot be installed because the file SLD.h to compile it with Cython is not found.\n",
    "According to 'https://www.pygame.org/wiki/MacCompile the missing resources can be easily added by using Homebrew:\n",
    "\n",
    "1. Install Homebrew -- instructions found on link.\n",
    "\n",
    "   Install the SDL dependencies:\n",
    "\n",
    "   `brew install sdl2 sdl2_image sdl2_mixer sdl2_ttf pkg-config`\n",
    "\n",
    "2. Install XQuartz [Seems to be optional]\n",
    "\n",
    "   `brew install Caskroom/cask/xquartz`\n",
    "\n",
    "3. Install portmidi\n",
    "\n",
    "   This step is definitely optional, and may fail on your system (it fails on mine). If you don't run this, or it fails, pygame.midi won't work, which is fine for most people. (step 5, testing, will tell you if this worked or not).\n",
    "\n",
    "   `brew install portmidi`\n",
    "\n",
    "4. Install latest Pygame from source\n",
    "\n",
    "   `python3 -m pip install git+https://github.com/pygame/pygame.git`\n",
    "\n",
    "5. verify all Pygame Tests\n",
    "\n",
    "   `python3 -m pygame.tests`"
   ],
   "id": "49c9ec3acfe31511"
  },
  {
   "metadata": {},
   "cell_type": "markdown",
   "source": "",
   "id": "88c56f26de4b8155"
  },
  {
   "metadata": {},
   "cell_type": "markdown",
   "source": [
    "## The OpenAI Gym API and Gymnasium\n",
    "\n",
    "Gym is a Python library developed by OpenAI (www.openai.com).\n",
    "The first version was released in 2017, and expanded ever since becoming the de facto standard for RL.\n",
    "\n",
    "In 2021, the OpenAI Gym team moved the development to Gymnasium fork of the original library ([https://github.com/Farama-Foundation/Gymnasium](github.com/Farama-Foundation/Gymnasium)).\n",
    "Gymnasium provides the same API and is a \"drop-in replacement\" for Gym: `import gymnasium as gym` and most likely\n",
    "the code will work.\n",
    "\n",
    "> Examples in this book are using Gymnasium, but the text will use \"Gym\" for brevity.\n",
    "> In rare cases when the difference does matter, the text will use \"Gymnasium.\"\n",
    "\n",
    "TGym provides a rich collection of environments for RL experiments using a unified interface.\n",
    "The central class in the library is an environment called Env.\n",
    "Instances of this class expose several methods and fields that provide its capabilities, including:\n",
    "\n",
    "- A set of actions that is allowed to be executed in the environment.\n",
    "  Gym supports both discrete and continuous actions, as well as their combination.\n",
    "- The shape and boundaries of the observations that the environment provides the agent with.\n",
    "- A method called `step` to execute an action, which returns the current observation, the reward, and a flag indicating that the episode is over.\n",
    "- A method called `reset`, which returns the environment to its initial state and obtains the first observation.\n",
    "\n",
    "### The Action Space\n",
    "The actions that agents can execute can be discrete, continuous, or a combination of the two.\n",
    "\n",
    "**Discrete actions** are fixed sets of actions an agent can take, like directions in a grid (left, right, up, down) or pressing a push button.\n",
    "Action's states are mutually exclusive, defining a discrete action space where only one action from a finite set is possible at a time.\n",
    "\n",
    "**Continuous actions** have a value, like turning a steering wheel at a specific angle or pressing an accelerator pedal with different force levels.\n",
    "A description of a continuous action includes its value boundaries.\n",
    "For instance, a steering wheel's value could range from -720 to 720 degrees, while an accelerator pedal's usually ranges from 0 to 1.\n",
    "\n",
    "The environment is not limited to a single action at a time.\n",
    "Multiple actions such as pushing multiple buttons simultaneously or steering the wheel and pressing two pedals can be taken simultaneously.\n",
    "Gym defines a special container class that allows the nesting of several action spaces into one unified action.\n",
    "\n",
    "### The Observation Space\n",
    "Observations are information provided by an environment to an agent at every timestamp, besides the reward.\n",
    "They can be simple numbers or complex multidimensional tensors like colour images from multiple cameras.\n",
    "Observations can also be discrete, like action spaces.\n",
    "For instance, a lightbulb'’'s state can be observed as a Boolean value (on or off).\n",
    "\n",
    "Actions and observations are similar, and Gym's classes reflect this:\n",
    "\n",
    "![image.png](attachment:99b3b8d0-986a-4bb6-9361-ea2dd1d21fe0.png)\n",
    "\n",
    "The basic abstract `Space` class includes one property and three methods:\n",
    "- `shape`: a property with the shape of the space, as with NumPy arrays.\n",
    "- `sample()`: returns a random sample from the space.\n",
    "- `contains(x)`: checks whether the argument x belongs to the space's domain.\n",
    "- `seed()`: initializes a random number generator for the space and all subspaces to get reproducible behavior across several runs.\n",
    "\n",
    "All these methods are abstract and reimplemented in each of the Space subclasses:\n",
    "\n",
    "- The Discreteclass represents a mutually exclusive set of items, numbered from 0 to n-1.\n",
    "  If needed, you can redefine the starting index with the optional constructor argument start.\n",
    "  The value n is a count of the items our Discrete object describes.\n",
    "  For example, Discrete(n=4) can be used for an action space of four directions to move in [left, right, up, or down].\n",
    "- The Box class represents an n-dimensional tensor of rational numbers with intervals [low, high].\n",
    "  For instance, this could be an accelerator pedal with one single value between 0.0 and 1.0, which could be encoded by Box(low=0.0, high=1.0, shape=(1,), dtype=np.float32).\n",
    "  Here, the shape argument is assigned a tuple of length 1 with a single value of 1, which gives us a one-dimensional tensor with a single value.\n",
    "  The dtype parameter specifies the space’s value type, and here, we specify it as a NumPy 32-bit float.\n",
    "  Another example of Box could be an Atari screen observation (we will cover lots of Atari environments later), which is an RGB (red, green, and blue) image of size 210×160: Box(low=0, high=255, shape=(210, 160, 3), dtype=np.uint8).\n",
    "  In this case, the shape argument is a tuple of three elements: the first dimension is the height of the image, the second is the width, and the third equals 3, which all correspond to three color planes for red, green, and blue, respectively.\n",
    "  So, in total, every observation is a three-dimensional tensor with 100,800 bytes.\n",
    "- The final child of Space is a Tuple class, which allows us to combine several Space class instances together.\n",
    "  This enables us to create action and observation spaces of any complexity that we want.\n",
    "  For example, imagine we want to create an action space specification for a car.\n",
    "  The car has several controls that can be changed at every timestamp, including the steering wheel angle, brake pedal position, and accelerator pedal position.\n",
    "  These three controls can be specified by three float values in one single Box instance.\n",
    "  Besides these essential controls, the car has extra discrete controls, like a turn signal (which could be off, right, or left) or horn (on or off).\n",
    "  To combine all of this into one action space specification class, we can use the following code:\n",
    "  ```python:\n",
    "  Tuple(spaces=(\n",
    "      Box(low=-1.0, high=1.0, shape=(3,), dtype=np.float32),\n",
    "      Discrete(n=3),\n",
    "      Discrete(n=2)\n",
    "  ))\n",
    "  ```\n",
    "  This flexibility is rarely used; for example, in this book, you will see only the Box and Discrete actions and observation spaces, but the Tuple class can be handy in some cases.\n",
    "\n",
    "There are other Space subclasses defined in Gym, for example, Sequence (representing variable-length sequences), Text (strings), and Graph (where space is a set of nodes with connections between them).\n",
    "But the three that we have described are the most useful ones.\n",
    "\n",
    "Every environment has two members of type Space: the action_space and observation_space.\n",
    "This allows us to create generic code that could work with any environment.\n",
    "Of course, dealing with the pixels of the screen is different from handling discrete observations (as in the former case, we may want to preprocess images with convolutional layers or with other methods from the computer vision toolbox); so, most of the time, this means optimizing the code for a particular environment or group of environments, but Gym doesn’t\n",
    "prevent us from writing generic code.\n"
   ],
   "id": "87b3a416cce93a85",
   "attachments": {
    "99b3b8d0-986a-4bb6-9361-ea2dd1d21fe0.png": {
     "image/png": "[encoded data removed]"
    }
   }
  },
  {
   "metadata": {
    "ExecuteTime": {
     "end_time": "2025-10-29T13:22:10.448926Z",
     "start_time": "2025-10-29T13:22:10.447713Z"
    }
   },
   "cell_type": "code",
   "source": "",
   "id": "806a3c6b528a483",
   "outputs": [],
   "execution_count": null
  },
  {
   "metadata": {
    "ExecuteTime": {
     "end_time": "2025-10-29T13:22:10.451994Z",
     "start_time": "2025-10-29T13:22:10.450951Z"
    }
   },
   "cell_type": "code",
   "source": "",
   "id": "ee1de7d55ab46435",
   "outputs": [],
   "execution_count": null
  },
  {
   "metadata": {
    "ExecuteTime": {
     "end_time": "2025-10-29T13:22:10.454681Z",
     "start_time": "2025-10-29T13:22:10.453625Z"
    }
   },
   "cell_type": "code",
   "source": "",
   "id": "18d96f41a6177028",
   "outputs": [],
   "execution_count": null
  },
  {
   "metadata": {
    "ExecuteTime": {
     "end_time": "2025-10-29T13:22:10.459046Z",
     "start_time": "2025-10-29T13:22:10.457967Z"
    }
   },
   "cell_type": "code",
   "source": "",
   "id": "8c57ff8e0cbf9d30",
   "outputs": [],
   "execution_count": null
  },
  {
   "metadata": {
    "ExecuteTime": {
     "end_time": "2025-10-29T13:22:10.463359Z",
     "start_time": "2025-10-29T13:22:10.462331Z"
    }
   },
   "cell_type": "code",
   "source": "",
   "id": "e8a50cf83fb3b6f7",
   "outputs": [],
   "execution_count": null
  },
  {
   "metadata": {
    "ExecuteTime": {
     "end_time": "2025-10-29T13:22:10.467728Z",
     "start_time": "2025-10-29T13:22:10.466634Z"
    }
   },
   "cell_type": "code",
   "source": "",
   "id": "b3d3c17921a55f8d",
   "outputs": [],
   "execution_count": null
  },
  {
   "metadata": {
    "ExecuteTime": {
     "end_time": "2025-10-29T13:22:10.475063Z",
     "start_time": "2025-10-29T13:22:10.473957Z"
    }
   },
   "cell_type": "code",
   "source": "",
   "id": "b69dfa0748270ae",
   "outputs": [],
   "execution_count": null
  },
  {
   "metadata": {
    "ExecuteTime": {
     "end_time": "2025-10-29T13:22:10.480556Z",
     "start_time": "2025-10-29T13:22:10.479280Z"
    }
   },
   "cell_type": "code",
   "source": "",
   "id": "cc475af3b2b7d419",
   "outputs": [],
   "execution_count": null
  },
  {
   "metadata": {
    "ExecuteTime": {
     "end_time": "2025-10-29T13:22:10.485395Z",
     "start_time": "2025-10-29T13:22:10.484291Z"
    }
   },
   "cell_type": "code",
   "source": "",
   "id": "8accc49f14f0924c",
   "outputs": [],
   "execution_count": null
  },
  {
   "metadata": {
    "ExecuteTime": {
     "end_time": "2025-10-29T13:24:01.380942Z",
     "start_time": "2025-10-29T13:24:01.375362Z"
    }
   },
   "cell_type": "markdown",
   "source": "## The CartPole Session\n",
   "id": "92b071ceeeb4ccd4"
  },
  {
   "metadata": {
    "ExecuteTime": {
     "end_time": "2025-10-29T13:33:10.497727Z",
     "start_time": "2025-10-29T13:33:10.494061Z"
    }
   },
   "cell_type": "code",
   "source": [
    "import gymnasium as gym\n",
    "\n",
    "e = gym.make(\"CartPole-v1\")\n",
    "e"
   ],
   "id": "366bda7209b7d49e",
   "outputs": [
    {
     "data": {
      "text/plain": [
       "<TimeLimit<OrderEnforcing<PassiveEnvChecker<CartPoleEnv<CartPole-v1>>>>>"
      ]
     },
     "execution_count": 14,
     "metadata": {},
     "output_type": "execute_result"
    }
   ],
   "execution_count": 14
  },
  {
   "metadata": {
    "ExecuteTime": {
     "end_time": "2025-10-29T13:33:15.883882Z",
     "start_time": "2025-10-29T13:33:15.880724Z"
    }
   },
   "cell_type": "code",
   "source": [
    "obs, info = e.reset()\n",
    "obs\n"
   ],
   "id": "b9e9d189df0f568d",
   "outputs": [
    {
     "data": {
      "text/plain": [
       "array([ 0.04056918, -0.04920773,  0.0402916 ,  0.00990842], dtype=float32)"
      ]
     },
     "execution_count": 15,
     "metadata": {},
     "output_type": "execute_result"
    }
   ],
   "execution_count": 15
  },
  {
   "metadata": {
    "ExecuteTime": {
     "end_time": "2025-10-29T13:33:16.572451Z",
     "start_time": "2025-10-29T13:33:16.569499Z"
    }
   },
   "cell_type": "code",
   "source": "info",
   "id": "49e062d952a1f64",
   "outputs": [
    {
     "data": {
      "text/plain": [
       "{}"
      ]
     },
     "execution_count": 16,
     "metadata": {},
     "output_type": "execute_result"
    }
   ],
   "execution_count": 16
  },
  {
   "metadata": {
    "ExecuteTime": {
     "end_time": "2025-10-29T13:33:16.965957Z",
     "start_time": "2025-10-29T13:33:16.962862Z"
    }
   },
   "cell_type": "code",
   "source": "e.action_space",
   "id": "3cd136ea4b1b6f18",
   "outputs": [
    {
     "data": {
      "text/plain": [
       "Discrete(2)"
      ]
     },
     "execution_count": 17,
     "metadata": {},
     "output_type": "execute_result"
    }
   ],
   "execution_count": 17
  },
  {
   "metadata": {
    "ExecuteTime": {
     "end_time": "2025-10-29T13:33:17.234033Z",
     "start_time": "2025-10-29T13:33:17.230936Z"
    }
   },
   "cell_type": "code",
   "source": "e.observation_space",
   "id": "d0f29d7c3b5ed069",
   "outputs": [
    {
     "data": {
      "text/plain": [
       "Box([-4.8               -inf -0.41887903        -inf], [4.8               inf 0.41887903        inf], (4,), float32)"
      ]
     },
     "execution_count": 18,
     "metadata": {},
     "output_type": "execute_result"
    }
   ],
   "execution_count": 18
  },
  {
   "metadata": {
    "ExecuteTime": {
     "end_time": "2025-10-29T13:33:17.539225Z",
     "start_time": "2025-10-29T13:33:17.537207Z"
    }
   },
   "cell_type": "code",
   "source": "e.step(0)",
   "id": "2e7674d61fbbdcdd",
   "outputs": [
    {
     "data": {
      "text/plain": [
       "(array([ 0.03958502, -0.24488366,  0.04048977,  0.31502664], dtype=float32),\n",
       " 1.0,\n",
       " False,\n",
       " False,\n",
       " {})"
      ]
     },
     "execution_count": 19,
     "metadata": {},
     "output_type": "execute_result"
    }
   ],
   "execution_count": 19
  },
  {
   "metadata": {
    "ExecuteTime": {
     "end_time": "2025-10-29T13:33:17.952020Z",
     "start_time": "2025-10-29T13:33:17.948960Z"
    }
   },
   "cell_type": "code",
   "source": "e.action_space.sample(), e.action_space.sample()\n",
   "id": "4a0013e3c1afd68c",
   "outputs": [
    {
     "data": {
      "text/plain": [
       "(np.int64(0), np.int64(0))"
      ]
     },
     "execution_count": 20,
     "metadata": {},
     "output_type": "execute_result"
    }
   ],
   "execution_count": 20
  },
  {
   "metadata": {
    "ExecuteTime": {
     "end_time": "2025-10-29T13:33:18.788592Z",
     "start_time": "2025-10-29T13:33:18.785009Z"
    }
   },
   "cell_type": "code",
   "source": "e.observation_space.sample(), e.observation_space.sample()\n",
   "id": "ba7713695b5d9a0",
   "outputs": [
    {
     "data": {
      "text/plain": [
       "(array([-0.5012469 ,  2.1165984 ,  0.40021276,  1.6305071 ], dtype=float32),\n",
       " array([-3.4216847 ,  0.22629507,  0.20837444, -0.24414153], dtype=float32))"
      ]
     },
     "execution_count": 21,
     "metadata": {},
     "output_type": "execute_result"
    }
   ],
   "execution_count": 21
  },
  {
   "metadata": {
    "ExecuteTime": {
     "end_time": "2025-10-29T13:34:04.220580Z",
     "start_time": "2025-10-29T13:34:04.216040Z"
    }
   },
   "cell_type": "code",
   "source": [
    "if __name__ == \"__main__\":\n",
    "    env = gym.make(\"CartPole-v1\")\n",
    "    total_reward = 0.0\n",
    "    total_steps = 0\n",
    "    obs, _ = env.reset()\n",
    "\n",
    "    while True:\n",
    "        action = env.action_space.sample()\n",
    "        obs, reward, is_done, is_trunc, _ = env.step(action)\n",
    "        total_reward += reward\n",
    "        total_steps += 1\n",
    "        if is_done:\n",
    "            break\n",
    "\n",
    "    print(\"Episode done in %d steps, total reward %.2f\" % (total_steps, total_reward))"
   ],
   "id": "f9c473952487b165",
   "outputs": [
    {
     "name": "stdout",
     "output_type": "stream",
     "text": [
      "Episode done in 9 steps, total reward 9.00\n"
     ]
    }
   ],
   "execution_count": 25
  },
  {
   "metadata": {},
   "cell_type": "markdown",
   "source": [
    "## Extra Gym API functionality\n",
    "\n",
    "### Wrappers\n",
    "\n",
    "![image.png](attachment:2e2e67c1-609f-478f-9bb4-6c780a2745d0.png)\n",
    "\n"
   ],
   "id": "cfe7e81205b514f1",
   "attachments": {
    "2e2e67c1-609f-478f-9bb4-6c780a2745d0.png": {
     "image/png": "[encoded data removed]"
    }
   }
  },
  {
   "metadata": {
    "ExecuteTime": {
     "end_time": "2025-10-29T13:45:00.001666Z",
     "start_time": "2025-10-29T13:44:59.997034Z"
    }
   },
   "cell_type": "code",
   "source": [
    "import gymnasium as gym\n",
    "import random as rnd\n",
    "\n",
    "class RandomActionWrapper(gym.ActionWrapper):\n",
    "\n",
    "    def __init__(self, env: gym.Env, epsilon: float = 0.1):\n",
    "        super(RandomActionWrapper, self).__init__(env)\n",
    "        self.epsilon = epsilon\n",
    "\n",
    "    def action(self, action: gym.core.WrapperActType) -> gym.core.WrapperActType:\n",
    "        if rnd.random() < self.epsilon:\n",
    "            action = self.env.action_space.sample()\n",
    "            print(f\"Random action {action}\")\n",
    "            return action\n",
    "\n",
    "        return action\n",
    "\n",
    "    def step(self, action: int) -> gym.core.WrapperActType:\n",
    "        return super(RandomActionWrapper, self).step(action)\n"
   ],
   "id": "b72b799ccf1d585a",
   "outputs": [],
   "execution_count": 29
  },
  {
   "metadata": {
    "ExecuteTime": {
     "end_time": "2025-10-29T13:45:00.843071Z",
     "start_time": "2025-10-29T13:45:00.839002Z"
    }
   },
   "cell_type": "code",
   "source": [
    "if __name__ == \"__main__\":\n",
    "    env = RandomActionWrapper(\n",
    "        gym.make(\"CartPole-v1\"))\n",
    "\n",
    "    obs = env.reset()\n",
    "    total_reward = 0.0\n",
    "\n",
    "    while True:\n",
    "        obs, reward, done, _, _ = env.step(0)\n",
    "        total_reward += reward\n",
    "        if done:\n",
    "            break\n",
    "\n",
    "    print(f\"Reward got: {total_reward:.2f}\")"
   ],
   "id": "757ac1508a4434d6",
   "outputs": [
    {
     "name": "stdout",
     "output_type": "stream",
     "text": [
      "Random action 0\n",
      "Reward got: 9.00\n"
     ]
    }
   ],
   "execution_count": 30
  },
  {
   "metadata": {
    "ExecuteTime": {
     "end_time": "2025-10-29T13:41:26.307226Z",
     "start_time": "2025-10-29T13:41:26.306019Z"
    }
   },
   "cell_type": "markdown",
   "source": "### Rendering the environment\n",
   "id": "faea55b7ee7984f2"
  },
  {
   "metadata": {
    "ExecuteTime": {
     "end_time": "2025-10-29T17:00:57.782019Z",
     "start_time": "2025-10-29T17:00:57.021376Z"
    }
   },
   "cell_type": "code",
   "source": [
    "if __name__ == \"__main__\":\n",
    "    env = gym.wrappers.HumanRendering(\n",
    "        gym.make(\"CartPole-v1\", render_mode=\"rgb_array\"))\n",
    "\n",
    "    obs = env.reset()\n",
    "    total_reward = 0.0\n",
    "\n",
    "    while True:\n",
    "        obs, reward, done, _, _ = env.step(0)\n",
    "        total_reward += reward\n",
    "        if done:\n",
    "            break\n",
    "\n",
    "    print(f\"Reward got: {total_reward:.2f}\")"
   ],
   "id": "e9433586750965d3",
   "outputs": [
    {
     "name": "stderr",
     "output_type": "stream",
     "text": [
      "/Users/kckp856/Workspace/Deep-Reinforcement-Learning/.venv/lib/python3.14/site-packages/pygame/pkgdata.py:25: UserWarning: pkg_resources is deprecated as an API. See https://setuptools.pypa.io/en/latest/pkg_resources.html. The pkg_resources package is slated for removal as early as 2025-11-30. Refrain from using this package or pin to Setuptools<81.\n",
      "  from pkg_resources import resource_stream, resource_exists\n"
     ]
    },
    {
     "name": "stdout",
     "output_type": "stream",
     "text": [
      "Reward got: 8.00\n"
     ]
    }
   ],
   "execution_count": 32
  },
  {
   "metadata": {
    "ExecuteTime": {
     "end_time": "2025-10-29T17:04:30.543198Z",
     "start_time": "2025-10-29T17:04:30.328549Z"
    }
   },
   "cell_type": "code",
   "source": [
    "if __name__ == \"__main__\":\n",
    "    env = gym.wrappers.RecordVideo(\n",
    "        gym.make(\"CartPole-v1\", render_mode=\"rgb_array\"),\n",
    "        video_folder=\"video\")\n",
    "\n",
    "    obs = env.reset()\n",
    "    total_reward = 0.0\n",
    "\n",
    "    while True:\n",
    "        obs, reward, done, _, _ = env.step(0)\n",
    "        total_reward += reward\n",
    "        if done:\n",
    "            break\n",
    "\n",
    "    env.close()\n",
    "\n",
    "    print(f\"Reward got: {total_reward:.2f}\")"
   ],
   "id": "7f2885efeba41e79",
   "outputs": [
    {
     "name": "stdout",
     "output_type": "stream",
     "text": [
      "Reward got: 8.00\n"
     ]
    }
   ],
   "execution_count": 36
  },
  {
   "metadata": {},
   "cell_type": "code",
   "outputs": [],
   "execution_count": null,
   "source": "",
   "id": "f25f9f4500d9ec1"
  }
 ],
 "metadata": {
  "kernelspec": {
   "display_name": "Python 3",
   "language": "python",
   "name": "python3"
  },
  "language_info": {
   "codemirror_mode": {
    "name": "ipython",
    "version": 2
   },
   "file_extension": ".py",
   "mimetype": "text/x-python",
   "name": "python",
   "nbconvert_exporter": "python",
   "pygments_lexer": "ipython2",
   "version": "2.7.6"
  }
 },
 "nbformat": 4,
 "nbformat_minor": 5
}
