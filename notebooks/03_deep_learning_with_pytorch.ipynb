{
 "cells": [
  {
   "metadata": {},
   "cell_type": "markdown",
   "source": [
    "# 3 | Deep Learning with PyTorch\n",
    "\n"
   ],
   "id": "1ddc3adfd89545e2"
  },
  {
   "metadata": {},
   "cell_type": "markdown",
   "source": [
    "## Tensors\n",
    "\n",
    "A **tensor** is the fundamental building block of all DL toolkits.\n",
    "Despite the fancy name, a tensor is just a multi-dimensional array.\n",
    "A single number, or scalar, is like a point and is a zero-dimensional tensor.\n",
    "A vector is like a line segment and is a one-dimensional tensor.\n",
    "A matrix is like a surface and is a two-dimensional tensor.\n",
    "A cuboid is like an object and is a three-dimensional tensor.\n",
    "The same applies to collections of numbers of higher dimensions that are still called \"tensors\".\n",
    "\n",
    "![image.png](attachment:a2ba5e9c-5f4e-482c-b527-2b1a6dc493c1.png)\n",
    "\n",
    "In DL, tensors are just a multi-dimensional arrays and only partially related to those in _tensor calculus_ or _tensor algebra_.\n",
    "In mathematics, a tensor is a mapping between vector spaces which sometime is represented as a multi-dimensional array.\n",
    "\n",
    "### The Creation of Tensors\n",
    "Knowing the basic operations on tensors is the best way to become familiar with them.\n",
    "The most basic operation is to create tensors.\n",
    "There are several ways to create tensors.\n",
    "Code readability and performance are the criteria often used to choose one.\n",
    "\n",
    "NumPy is a library to handle multi-dimensional arrays in a generic way.\n",
    "Multi-dimensional arrays in NumPy are like tensors even though they are not called so.\n",
    "Tensors are used very widely in scientific computations as generic storage for data.\n",
    "A color image is an example of 3D tensor with width, height, and color plane as dimensions.\n",
    "\n",
    "Besides dimensions, tensors are characterized by the type of its elements.\n",
    "PyTorch supports 13 types of elements: float16, float32, float64, bfloat16, complex32, complex64, complex128, integer8, integer16, integer32, integer64, uinteger8, and boolean.\n",
    "There are also 4 composite types for \"quantised numbers\" using the types above, just with different bit representation and interpretation.\n",
    "\n",
    "Each tensor type is implemented by a class.\n",
    "See the documentation to discover all of them.\n",
    "The most common types are `torch.FloatTensor` (corresponding to a 32-bit float), `torch.ByteTensor` (an 8-bit unsigned integer), and `torch.LongTensor` (a 64-bit signed integer).\n",
    "\n",
    "The 3 ways to create a tensor in PyTorch are:\n",
    "\n",
    "- by calling the constructor of the required type, such as `torch.FloatTensor(3, 2)`,\n",
    "- by asking PyTorch to create a tensor with specific data, such as zeros using the function `torch.zeros(3, 2)`,\n",
    "- by converting a NumPy array or a Python iterable into a tensor, like with `torch.tensor(np.zeros(shape=(3, 2)))`.\n"
   ],
   "id": "e0e7363f0a109543",
   "attachments": {
    "a2ba5e9c-5f4e-482c-b527-2b1a6dc493c1.png": {
     "image/png": "[encoded data removed]"
    }
   }
  },
  {
   "metadata": {
    "ExecuteTime": {
     "end_time": "2025-10-30T15:52:23.108880Z",
     "start_time": "2025-10-30T15:52:23.086916Z"
    }
   },
   "cell_type": "code",
   "source": [
    "import numpy as np\n",
    "import torch as th\n",
    "\n",
    "a = th.FloatTensor(3, 2)\n",
    "a"
   ],
   "id": "ac99f377b294f8a0",
   "outputs": [
    {
     "data": {
      "text/plain": [
       "tensor([[0., 0.],\n",
       "        [0., 0.],\n",
       "        [0., 0.]])"
      ]
     },
     "execution_count": 4,
     "metadata": {},
     "output_type": "execute_result"
    }
   ],
   "execution_count": 4
  },
  {
   "metadata": {},
   "cell_type": "markdown",
   "source": [
    "The script import PyTorch and NumPy, then creates a new float tensor of size 3×2.\n",
    "PyTorch now initialises memory with zeros, a different behaviour from previous versions.\n",
    "Originally it just allocated memory and kapt it uninitialised: faster but less safe.\n",
    "This behaviour might change again in the future so it is good practice to always initialise tensors:"
   ],
   "id": "80ecced3b762d79f"
  },
  {
   "metadata": {
    "ExecuteTime": {
     "end_time": "2025-10-30T15:52:27.150964Z",
     "start_time": "2025-10-30T15:52:27.146164Z"
    }
   },
   "cell_type": "code",
   "source": "th.zeros(3, 4)",
   "id": "39edc8ca41598524",
   "outputs": [
    {
     "data": {
      "text/plain": [
       "tensor([[0., 0., 0., 0.],\n",
       "        [0., 0., 0., 0.],\n",
       "        [0., 0., 0., 0.]])"
      ]
     },
     "execution_count": 5,
     "metadata": {},
     "output_type": "execute_result"
    }
   ],
   "execution_count": 5
  },
  {
   "metadata": {},
   "cell_type": "markdown",
   "source": "Alternatively call the tensor modification method:",
   "id": "f1dbfb0137b78241"
  },
  {
   "metadata": {
    "ExecuteTime": {
     "end_time": "2025-10-30T15:52:28.891411Z",
     "start_time": "2025-10-30T15:52:28.888207Z"
    }
   },
   "cell_type": "code",
   "source": "th.zero_(a)",
   "id": "2e59db004efc67a8",
   "outputs": [
    {
     "data": {
      "text/plain": [
       "tensor([[0., 0.],\n",
       "        [0., 0.],\n",
       "        [0., 0.]])"
      ]
     },
     "execution_count": 6,
     "metadata": {},
     "output_type": "execute_result"
    }
   ],
   "execution_count": 6
  },
  {
   "metadata": {
    "ExecuteTime": {
     "end_time": "2025-10-29T10:53:40.133665Z",
     "start_time": "2025-10-29T10:53:40.131798Z"
    }
   },
   "cell_type": "markdown",
   "source": [
    "Notice that there are two types of operation for tensors: **inplace** and **functional**.\n",
    "Inplace operations have an underscore appended to their name, operate on the tensor's content, and eventually return the modified tensor itself.\n",
    "The functional equivalent creates a copy of the tensor's content, applies the operation and returns the copy leaving the original tensor untouched.\n",
    "Inplace operations are usually faster but less safe (the same tensor shared in different places where changes are not expected).\n",
    "\n",
    "Alternatively use the tensor constructor passing a Python iterable (i.e.: a list or tuple) to it:"
   ],
   "id": "9b8934c35467ef4a"
  },
  {
   "metadata": {
    "ExecuteTime": {
     "end_time": "2025-10-30T15:52:29.929856Z",
     "start_time": "2025-10-30T15:52:29.920061Z"
    }
   },
   "cell_type": "code",
   "source": "th.FloatTensor([[1, 2, 3], [3, 2, 1]])",
   "id": "5d0b03c095b83de2",
   "outputs": [
    {
     "data": {
      "text/plain": [
       "tensor([[1., 2., 3.],\n",
       "        [3., 2., 1.]])"
      ]
     },
     "execution_count": 7,
     "metadata": {},
     "output_type": "execute_result"
    }
   ],
   "execution_count": 7
  },
  {
   "metadata": {
    "ExecuteTime": {
     "end_time": "2025-10-29T11:00:24.440523Z",
     "start_time": "2025-10-29T11:00:24.431480Z"
    }
   },
   "cell_type": "markdown",
   "source": "or by passing a NumPy array to it:",
   "id": "4d74f47fc690c109"
  },
  {
   "metadata": {
    "ExecuteTime": {
     "end_time": "2025-10-30T15:52:30.860385Z",
     "start_time": "2025-10-30T15:52:30.855490Z"
    }
   },
   "cell_type": "code",
   "source": [
    "n = np.zeros(shape=(3, 2))\n",
    "b = th.tensor(n)\n",
    "n, b\n"
   ],
   "id": "b975dd29758c9e3c",
   "outputs": [
    {
     "data": {
      "text/plain": [
       "(array([[0., 0.],\n",
       "        [0., 0.],\n",
       "        [0., 0.]]),\n",
       " tensor([[0., 0.],\n",
       "         [0., 0.],\n",
       "         [0., 0.]], dtype=torch.float64))"
      ]
     },
     "execution_count": 8,
     "metadata": {},
     "output_type": "execute_result"
    }
   ],
   "execution_count": 8
  },
  {
   "metadata": {
    "ExecuteTime": {
     "end_time": "2025-10-29T10:53:40.789251Z",
     "start_time": "2025-10-29T10:53:40.787502Z"
    }
   },
   "cell_type": "markdown",
   "source": [
    "`torch.tensor(...)` accepts the NumPy array and creates a tensor of appropriate shape from it.\n",
    "In the example above, NumPy has implicitly created a double array (64-bit float).\n",
    "The resulting tensor uses `torch.float64` as the `dtype` property shows.\n",
    "In DL, double precision is usually not required, uses extra memory and causes performance overhead.\n",
    "Using the 32-bit or even the 16-bit floats is common practice.\n",
    "Specify explicitly the type of the NumPy array to do so:"
   ],
   "id": "2b620b48776c9638"
  },
  {
   "metadata": {
    "ExecuteTime": {
     "end_time": "2025-10-30T15:52:31.515938Z",
     "start_time": "2025-10-30T15:52:31.510984Z"
    }
   },
   "cell_type": "code",
   "source": [
    "n = np.zeros(shape=(3, 2), dtype=np.float16)\n",
    "b = th.tensor(n)\n",
    "n, b"
   ],
   "id": "21e0c217ca0cc854",
   "outputs": [
    {
     "data": {
      "text/plain": [
       "(array([[0., 0.],\n",
       "        [0., 0.],\n",
       "        [0., 0.]], dtype=float16),\n",
       " tensor([[0., 0.],\n",
       "         [0., 0.],\n",
       "         [0., 0.]], dtype=torch.float16))"
      ]
     },
     "execution_count": 9,
     "metadata": {},
     "output_type": "execute_result"
    }
   ],
   "execution_count": 9
  },
  {
   "metadata": {
    "ExecuteTime": {
     "end_time": "2025-10-29T12:30:32.898499Z",
     "start_time": "2025-10-29T12:30:32.897212Z"
    }
   },
   "cell_type": "markdown",
   "source": "Alternatively, specify the desired type with the `dtype` parameter of the `torch.tensor(...) function:\n",
   "id": "cb1befe0be551de8"
  },
  {
   "metadata": {
    "ExecuteTime": {
     "end_time": "2025-10-30T15:52:32.268177Z",
     "start_time": "2025-10-30T15:52:32.265458Z"
    }
   },
   "cell_type": "code",
   "source": [
    "n = np.zeros(shape=(3, 2))\n",
    "b = th.tensor(n, dtype=th.float16)\n",
    "n, b"
   ],
   "id": "6f7dd013cdbaa21a",
   "outputs": [
    {
     "data": {
      "text/plain": [
       "(array([[0., 0.],\n",
       "        [0., 0.],\n",
       "        [0., 0.]]),\n",
       " tensor([[0., 0.],\n",
       "         [0., 0.],\n",
       "         [0., 0.]], dtype=torch.float16))"
      ]
     },
     "execution_count": 10,
     "metadata": {},
     "output_type": "execute_result"
    }
   ],
   "execution_count": 10
  },
  {
   "metadata": {
    "ExecuteTime": {
     "end_time": "2025-10-29T12:30:33.203333Z",
     "start_time": "2025-10-29T12:30:33.201861Z"
    }
   },
   "cell_type": "markdown",
   "source": [
    "Notice that `torch.tensor()` and explicit PyTorch type specification were added in the 0.4.0 release.\n",
    "Before it, the `torch.from_numpy()` was the recommended way which had however its limitations.\n",
    "Nowadays `torch.from_numpy()` is still present for backward compatibility, but it is deprecated in favor of `torch.tensor()`.\n"
   ],
   "id": "c577e24f848a7ce9"
  },
  {
   "metadata": {
    "ExecuteTime": {
     "end_time": "2025-10-29T12:30:33.346193Z",
     "start_time": "2025-10-29T12:30:33.344611Z"
    }
   },
   "cell_type": "markdown",
   "source": [
    "### Scalar Tensor\n",
    "\n",
    "PyTorch supports zero-dimensional tensors (scalars) since the 0.4.0 release.\n",
    "Such tensors can be the results of some operations like sum or mean on other tensors.\n",
    "Previously, they were handled as one-dimensional tensor (vector) of size equals one.\n",
    "\n",
    "This solution worked, but wasn't convenient: extra indexation was needed to access the value.\n",
    "Now zero-dimensional tensors are natively supported by `torch.tensor()` and scalar is accessed with `.item()`:"
   ],
   "id": "a7d111d0121b79ac"
  },
  {
   "metadata": {
    "ExecuteTime": {
     "end_time": "2025-10-30T15:52:33.647688Z",
     "start_time": "2025-10-30T15:52:33.642388Z"
    }
   },
   "cell_type": "code",
   "source": [
    "vec = th.tensor([1, 2, 3])\n",
    "sum = vec.sum()\n",
    "val = sum.item()\n",
    "sca = th.tensor(1)\n",
    "\n",
    "vec, sum, val, sca"
   ],
   "id": "28a477dd9184ac1f",
   "outputs": [
    {
     "data": {
      "text/plain": [
       "(tensor([1, 2, 3]), tensor(6), 6, tensor(1))"
      ]
     },
     "execution_count": 11,
     "metadata": {},
     "output_type": "execute_result"
    }
   ],
   "execution_count": 11
  },
  {
   "metadata": {
    "ExecuteTime": {
     "end_time": "2025-10-30T10:00:48.244945Z",
     "start_time": "2025-10-30T10:00:48.241536Z"
    }
   },
   "cell_type": "markdown",
   "source": [
    "### Tensor Operations\n",
    "\n",
    "Way too many operations can be performed on tensors, and won't be all covered here.\n",
    "Refer to PyTorch documentation at [http://pytorch.org/docs/](http://pytorch.org/docs/) for more details.\n",
    "The `torch` package contains functions that usually accept tensors as argument.\n",
    "The `tensor` class has methods that operates on the tensor itself.\n",
    "\n",
    "Several tensor operations in PyTorch correspond to their NumPy counterpart.\n",
    "Examples are `torch.stack()`, `torch.transpose()`, and `torch.cat()`."
   ],
   "id": "272cc9e1555c875e"
  },
  {
   "metadata": {},
   "cell_type": "markdown",
   "source": [
    "### GPU Tensors\n",
    "\n",
    "PyTorch transparently supports CUDA GPUs.\n",
    "All tensor operations have two versions, CPU and GPU, selected automatically on the tensor type.\n",
    "\n",
    "GPU tensors are defined in the `torch.cuda` package instead of just `torch`.\n",
    "For example, `torch.FloatTensor` is a CPU 32-bit float tensor while `torch.cuda.FloatTensor` is its GPU counterpart.\n",
    "\n",
    "> PyTorch has a notion of backend which abstract specific devices.\n",
    "> PyTorch supports not just CPU and CUDA, but also Apple hardware with Metal Performance Shaders (MPS) (`mps` package).\n",
    "\n",
    "The method `to(device)` creates a copy of the tensor to the specified device (CPU or GPU).\n",
    "If the tensor is already on the desired device, nothing happens and the original tensor is returned.\n",
    "The device type can be specified with a string: \"cpu\" or \"cuda\".\n",
    "If multiple devices of a type are available, a zero-based index is needed as in \"cuda:1\",\n",
    "\n",
    "The device type can also be specified by an instance of `torch.device`.\n",
    "This class accepts the device name and optional index."
   ],
   "id": "1bd672ca5c7b6ce2"
  },
  {
   "metadata": {
    "ExecuteTime": {
     "end_time": "2025-10-30T15:52:35.390650Z",
     "start_time": "2025-10-30T15:52:35.200785Z"
    }
   },
   "cell_type": "code",
   "source": [
    "a = th.FloatTensor([2, 3])\n",
    "mps_a = a.to('mps')\n",
    "\n",
    "a, mps_a"
   ],
   "id": "80a2d2be7e13ef95",
   "outputs": [
    {
     "data": {
      "text/plain": [
       "(tensor([2., 3.]), tensor([2., 3.], device='mps:0'))"
      ]
     },
     "execution_count": 12,
     "metadata": {},
     "output_type": "execute_result"
    }
   ],
   "execution_count": 12
  },
  {
   "metadata": {
    "ExecuteTime": {
     "end_time": "2025-10-30T15:52:37.112518Z",
     "start_time": "2025-10-30T15:52:37.095848Z"
    }
   },
   "cell_type": "code",
   "source": "a + 1, mps_a - 1, mps_a.device",
   "id": "f8e0081b0909c517",
   "outputs": [
    {
     "data": {
      "text/plain": [
       "(tensor([3., 4.]),\n",
       " tensor([1., 2.], device='mps:0'),\n",
       " device(type='mps', index=0))"
      ]
     },
     "execution_count": 13,
     "metadata": {},
     "output_type": "execute_result"
    }
   ],
   "execution_count": 13
  },
  {
   "metadata": {},
   "cell_type": "markdown",
   "source": [
    "> Before the 0.4.0 release, copying between CPU and GPU was performed by tensor methods `.cpu()` and `.gpu()`.\n",
    "> In newer PyTorch versions, you can create a desired `torch.device` and use it with `.to(device)` where needed.\n",
    "> All methods are still available and we can choose the most convenient to use."
   ],
   "id": "ab74d08907781ffd"
  },
  {
   "metadata": {},
   "cell_type": "markdown",
   "source": [
    "## Gradients\n",
    "\n",
    "The killer feature of PyTorch is not the transparent GPU support, but rather the automatic computation of gradients.\n",
    "This functionality was originally implemented in the Caffe toolkit, standard in any DL libraries.\n",
    "\n",
    "Computing gradients manually is extremely painful to implement and debug even for simple neural network (NN).\n",
    "Involves calculating derivatives for all functions, appling the chain rule, and implementing the result.\n",
    "Useful once to understand the basics of DL, but not to repeat in every experiment to run.\n",
    "\n",
    "Luckily, gradients are now carefully calculated, backpropagated, and applied to the network by PyTorch for you.\n",
    "All you need to do is to define network architectures using DL primitives.\n",
    "\n",
    "![image.png](attachment:d3a2eabe-9d70-49ae-a3b7-6f091beee729.png)\n",
    "\n",
    "There are two fundamentally different ways to compute gradients:\n",
    "\n",
    "- **Static graph:** calculations are defined in advance and can't be modified later.\n",
    "  The NN graph is processed and optimised by the DL library ahead of execution.\n",
    "  TensorFlow (versions before 2.0), Theano, and other DL toolkits use this approach.\n",
    "- **Dynamic graph:** the NN graph is not defined in advance, but the transformations on actual data.\n",
    "  The DL library memorises the operations order and unroll them to accumulate the network parameters' gradients when needed.\n",
    "  This approach is called _notebook gradients_ and is implemented by PyTorch, Chainer, and others toolkits.\n",
    "\n",
    "Toolkits based on static graphs move computations on GPU minimising data transfer overhead and are typically faster.\n",
    "They usually optimise computations more substantially, altering the order or removing parts of the graph.\n",
    "Solutions based on dynamic graphs are computationally more expensive but give the developer much more freedom.\n",
    "(I.e.: for this data apply this network twice, for that data use a different network with gradients clipped by the batch mean.)\n",
    "\n",
    "![image.png](attachment:788d53c7-232e-499c-8120-2f983f37d7bc.png)\n",
    "\n",
    "For example, we can specify if a tensor requires gradients to be computed when creating it.\n",
    "Then, we add them element-wise (which is vector `[3, 3]`), double every element, and sum them together resulting in `12`:"
   ],
   "id": "9c992ba776ceb8f7",
   "attachments": {
    "d3a2eabe-9d70-49ae-a3b7-6f091beee729.png": {
     "image/png": "[encoded data removed]"
    },
    "788d53c7-232e-499c-8120-2f983f37d7bc.png": {
     "image/png": "[encoded data removed]"
    }
   }
  },
  {
   "metadata": {
    "ExecuteTime": {
     "end_time": "2025-10-30T15:52:40.946825Z",
     "start_time": "2025-10-30T15:52:40.939765Z"
    }
   },
   "cell_type": "code",
   "source": [
    "v1 = th.tensor([1.0, 1.0], requires_grad=True)\n",
    "v2 = th.tensor([2.0, 2.0])\n",
    "\n",
    "v_sum = v1 + v2\n",
    "\n",
    "v_res = (2 * v_sum).sum()\n",
    "\n",
    "v1, v2, v_sum, v_res"
   ],
   "id": "a0696f90c0fe5fe3",
   "outputs": [
    {
     "data": {
      "text/plain": [
       "(tensor([1., 1.], requires_grad=True),\n",
       " tensor([2., 2.]),\n",
       " tensor([3., 3.], grad_fn=<AddBackward0>),\n",
       " tensor(12., grad_fn=<SumBackward0>))"
      ]
     },
     "execution_count": 14,
     "metadata": {},
     "output_type": "execute_result"
    }
   ],
   "execution_count": 14
  },
  {
   "metadata": {},
   "cell_type": "markdown",
   "source": [
    "By checking the attributes of these tensors, we notice that `v1` and `v2` are the only leaf nodes.\n",
    "We notice also that they all require the gradient to be calculates with the only exception of `v2`:"
   ],
   "id": "88dd681db1edab7c"
  },
  {
   "metadata": {
    "ExecuteTime": {
     "end_time": "2025-10-30T15:52:42.797213Z",
     "start_time": "2025-10-30T15:52:42.794101Z"
    }
   },
   "cell_type": "code",
   "source": "v1.is_leaf, v2.is_leaf, v_sum.is_leaf, v_res.is_leaf",
   "id": "3fbaad2f6ce1c95b",
   "outputs": [
    {
     "data": {
      "text/plain": [
       "(True, True, False, False)"
      ]
     },
     "execution_count": 15,
     "metadata": {},
     "output_type": "execute_result"
    }
   ],
   "execution_count": 15
  },
  {
   "metadata": {
    "ExecuteTime": {
     "end_time": "2025-10-30T15:52:43.992635Z",
     "start_time": "2025-10-30T15:52:43.989545Z"
    }
   },
   "cell_type": "code",
   "source": "v1.requires_grad, v2.requires_grad, v_sum.requires_grad, v_res.requires_grad",
   "id": "59d8a424ec190ce6",
   "outputs": [
    {
     "data": {
      "text/plain": [
       "(True, False, True, True)"
      ]
     },
     "execution_count": 16,
     "metadata": {},
     "output_type": "execute_result"
    }
   ],
   "execution_count": 16
  },
  {
   "metadata": {},
   "cell_type": "markdown",
   "source": [
    "The property `.requires_grad` is \"sticky\": it is set in one of variables have it set.\n",
    "This is logical since gradiets are normally computed for all the intermediate steps.\n",
    "Notice however that computation doesn’t mean gradients will be preserved in the `.grad` field.\n",
    "\n",
    "For memory efficiency, gradients are stored only for leaf nodes with `requires_grad=True`.\n",
    "To retain gradients of non-leaf nodes, call their `retain_grad()` method.\n",
    "\n",
    "Call `backward()` to calculate the gradients and `.grad` to access the result:"
   ],
   "id": "3c751cea88a10c59"
  },
  {
   "metadata": {
    "ExecuteTime": {
     "end_time": "2025-10-30T15:52:45.752445Z",
     "start_time": "2025-10-30T15:52:45.745930Z"
    }
   },
   "cell_type": "code",
   "source": [
    "v_res.backward()\n",
    "\n",
    "v1.grad"
   ],
   "id": "7c67f1748c5176ab",
   "outputs": [
    {
     "data": {
      "text/plain": [
       "tensor([2., 2.])"
      ]
     },
     "execution_count": 17,
     "metadata": {},
     "output_type": "execute_result"
    }
   ],
   "execution_count": 17
  },
  {
   "metadata": {},
   "cell_type": "markdown",
   "source": [
    "PyTorch computes the numerical derivative of `v_res` when `backward()` is called.\n",
    "The call invokes `backward()` on all the variables referenced by `v_res`.\n",
    "The value `2` of the `v1` gradient means that increasing any element in `v1` by `1`, `v_res` grows by `2`.\n",
    "\n",
    "Remember that PyTorch calculates gradients only for leaf tensors with `requires_grad=True`.\n",
    "If we try to check the gradients of `v2`, we get nothing:"
   ],
   "id": "a68969f10145102b"
  },
  {
   "metadata": {
    "ExecuteTime": {
     "end_time": "2025-10-30T15:52:47.556393Z",
     "start_time": "2025-10-30T15:52:47.554749Z"
    }
   },
   "cell_type": "code",
   "source": "v2.grad",
   "id": "efd5165fc0d6a5f2",
   "outputs": [],
   "execution_count": 18
  },
  {
   "metadata": {},
   "cell_type": "markdown",
   "source": [
    "This guarantees efficient computation and memory usage despite the size of the network (millions of parameter, hundreds of layers).\n",
    "In gradient descent optimisation, we care on the final results not in the intermediate gradients.\n",
    "In the model, we only want to adjust the  gradients of loss with respect to model parameters (weights).\n",
    "If you want the gradient of input data, just mark the tensor with `requires_grad=True` on creation.\n",
    "This is useful for instance to generate adversarial example to fool existing NN of djust pretrained word embeddings.\n",
    "\n",
    "This is all you need to implement your own NN optimiser.\n",
    "The following section will cover extra convenient functions, classes and algorithms.\n",
    "Remember you can reimplement all of them using the building block seen so far.\n",
    "PyTorch is so popular for its elegance and flexibility.\n",
    "\n",
    "> Before the release of PyTorch 0.4.0, gradients accumulation was done in the `Variable` class.\n",
    "> This class was very thin as it was wrapping the tensor, automatically saving the computation history for backpropagation.\n",
    "> This class is available in `torch.autograd` in current releases, but deprecated and about to disappear.\n",
    "> The current implementation is much more intuitive and robust, and should be preferred.\n"
   ],
   "id": "4bc3e9edc013bdf2"
  },
  {
   "metadata": {},
   "cell_type": "markdown",
   "source": [
    "## NN Building Blocks\n",
    "\n",
    "The `torch.nn` package contains many predefined classes providing common building blocks.\n",
    "They are built to be convenient to use: they handle mini-batches, use sensible defaults, and initialise weights properly.\n",
    "All modules are _callable_, so an instance can be used like a function.\n",
    "For example, the `Linear` class implements a feed-forward layer with an optional bias:"
   ],
   "id": "cdb3448beda509ef"
  },
  {
   "metadata": {
    "ExecuteTime": {
     "end_time": "2025-10-30T15:52:52.368160Z",
     "start_time": "2025-10-30T15:52:52.360986Z"
    }
   },
   "cell_type": "code",
   "source": [
    "from torch import nn\n",
    "\n",
    "l = nn.Linear(2, 5)\n",
    "v = th.FloatTensor([1, 2])\n",
    "l(v)"
   ],
   "id": "a213942133613ce1",
   "outputs": [
    {
     "data": {
      "text/plain": [
       "tensor([-1.0405,  0.2138,  0.1998, -0.6290, -1.4227], grad_fn=<ViewBackward0>)"
      ]
     },
     "execution_count": 19,
     "metadata": {},
     "output_type": "execute_result"
    }
   ],
   "execution_count": 19
  },
  {
   "metadata": {},
   "cell_type": "markdown",
   "source": [
    "Here, we created a randomly initialized feed-forward layer, with two inputs and five outputs, and applied it to our float tensor.\n",
    "All classes in the `torch.nn` packages inherit from the `nn.Module` base class, which you can use to implement your own higher-level NN blocks.\n",
    "You will see how you can do this in the next section, but, for now, let’s look at useful methods that all `nn.Module` children provide.\n",
    "They are as follows:\n",
    "\n",
    "The example randomly initialises a feed‑forward layer with two inputs and five outputs, then applies it to a given float tensor.\n",
    "All classes in `torch.nn` inherit from the `nn.Module` base class, which you can extend to build higher‑level blocks.\n",
    "For now, here are most useful methods common to all `nn.Module` subclasses:\n",
    "\n",
    "- `parameters()`: returns an iterator on all variables that require gradient computation (module weights),\n",
    "- `zero_grad()`: initializes all gradients of all parameters to zero,\n",
    "- `to(device)`: moves all module parameters to a given device (CPU or GPU),\n",
    "- `state_dict()`: returns the dictionary with all module parameters (useful for model serialization),\n",
    "- `load_state_dict()`: initializes the module with the state dictionary.\n",
    "\n",
    "The whole list of available classes can be found in the documentation at [http://pytorch.org/docs](http://pytorch.org/docs).\n",
    "\n",
    "A class that is worth a special mention is `Sequential` that is used to combine layers into pipes.\n",
    "The following example defines a three-layer NN with softmax on output, applied along dimension 1 (dimension 0 is batch samples), **rectified linear unit (ReLU)** nonlinearities, and dropout.\n",
    "Then we create a tensor that we push through the network as a mini-batch of one vector.\n"
   ],
   "id": "adb4a1cf78645e44"
  },
  {
   "metadata": {
    "ExecuteTime": {
     "end_time": "2025-10-30T16:31:05.655776Z",
     "start_time": "2025-10-30T16:31:05.652296Z"
    }
   },
   "cell_type": "code",
   "source": [
    "s = nn.Sequential(\n",
    "    nn.Linear(2, 5),\n",
    "    nn.ReLU(),\n",
    "    nn.Linear(5, 20),\n",
    "    nn.ReLU(),\n",
    "    nn.Linear(20, 10),\n",
    "    nn.Dropout(p=0.3),\n",
    "    nn.Softmax(dim=1))\n",
    "s"
   ],
   "id": "533f9d83fcf489ee",
   "outputs": [
    {
     "data": {
      "text/plain": [
       "Sequential(\n",
       "  (0): Linear(in_features=2, out_features=5, bias=True)\n",
       "  (1): ReLU()\n",
       "  (2): Linear(in_features=5, out_features=20, bias=True)\n",
       "  (3): ReLU()\n",
       "  (4): Linear(in_features=20, out_features=10, bias=True)\n",
       "  (5): Dropout(p=0.3, inplace=False)\n",
       "  (6): Softmax(dim=1)\n",
       ")"
      ]
     },
     "execution_count": 21,
     "metadata": {},
     "output_type": "execute_result"
    }
   ],
   "execution_count": 21
  },
  {
   "metadata": {
    "ExecuteTime": {
     "end_time": "2025-10-30T16:33:28.132341Z",
     "start_time": "2025-10-30T16:33:28.126997Z"
    }
   },
   "cell_type": "code",
   "source": [
    "b = th.FloatTensor([[1, 2]])\n",
    "b, s(b)\n"
   ],
   "id": "a0abe949ffe208a3",
   "outputs": [
    {
     "data": {
      "text/plain": [
       "(tensor([[1., 2.]]),\n",
       " tensor([[0.2007, 0.1412, 0.1195, 0.0500, 0.0937, 0.0800, 0.0629, 0.0635, 0.1331,\n",
       "          0.0555]], grad_fn=<SoftmaxBackward0>))"
      ]
     },
     "execution_count": 27,
     "metadata": {},
     "output_type": "execute_result"
    }
   ],
   "execution_count": 27
  },
  {
   "metadata": {
    "ExecuteTime": {
     "end_time": "2025-10-30T13:33:39.696685Z",
     "start_time": "2025-10-30T13:33:39.687642Z"
    }
   },
   "cell_type": "markdown",
   "source": [
    "## Custom Layers\n",
    "\n",
    "As said before, `nn.Module` is the base class for PyTorch's neural network layers.\n",
    "It's more than a common parent: by subclassing `nn.Module`, you can create your own blocks that stack neatly, can be reused, and integrate seamlessly with PyTorch.\n",
    "\n",
    "At its core, `nn.Module` offers rich, practical features:\n",
    "\n",
    "- **Submodule tracking**: assign submodules to fields and PyTorch registers them automatically (e.g., two feed-forward `Linear` layers inside your block).\n",
    "- **Parameter management**: list parameters (`parameters()`), zero gradients (`zero_grad()`), move to CPU/GPU (`to(device)`), serialize/deserialize (`state_dict()`, `load_state_dict()`), and run a function across submodules (`apply()`).\n",
    "- **Data flow convention**: define the transformation in `forward()` by overriding it.\n",
    "- **Advanced hooks**: register hooks to modify computations or gradient flow, mainly for advanced use.\n",
    "\n",
    "These features let us nest submodels into larger models in a consistent way, which helps manage complexity.\n",
    "Whether it's a single linear layer or a 1001‑layer **residual NN (ResNet)**, anything that follows `nn.Module` conventions can be used the same way.\n",
    "This improves code reusability and keeps irrelevant implementation details hidden.\n",
    "\n",
    "PyTorch's design makes implementing custom modules easy.\n",
    "In practice, all you need to do is registering your submodules and implementing the `forward()` method.\n",
    "\n",
    "Let's make the previous `Sequential` example more generic and reusable by creating a module class that inherits from `nn.Module`.\n",
    "(See `Chapter03/01_modules.py` for the full example.)\n"
   ],
   "id": "1a8a5450d6d24d8f"
  },
  {
   "metadata": {
    "ExecuteTime": {
     "end_time": "2025-10-30T17:06:07.198150Z",
     "start_time": "2025-10-30T17:06:07.192597Z"
    }
   },
   "cell_type": "code",
   "source": [
    "class OurModule(nn.Module):\n",
    "\n",
    "    def __init__(self, num_inputs, num_classes, dropout_prob=0.3):\n",
    "        super(OurModule, self).__init__()\n",
    "\n",
    "        self.pipe = nn.Sequential(\n",
    "            nn.Linear(num_inputs, 5),\n",
    "            nn.ReLU(),\n",
    "            nn.Linear(5, 20),\n",
    "            nn.ReLU(),\n",
    "            nn.Linear(20, num_classes),\n",
    "            nn.Dropout(p=dropout_prob),\n",
    "            nn.Softmax(dim=1))\n",
    "\n",
    "    def forward(self, x):\n",
    "        return self.pipe(x)"
   ],
   "id": "b5a73ca4b6f3c436",
   "outputs": [],
   "execution_count": 29
  },
  {
   "metadata": {},
   "cell_type": "markdown",
   "source": [
    "In the constructor, we pass three arguments: input size, output size, and an optional dropout probability.\n",
    "First, call the parent constructor to initialise the base class.\n",
    "\n",
    "Next, create an `nn.Sequential` with the required layers and assign it to a field (for example, pipe).\n",
    "Assigning a `Sequential` to a field automatically registers it, since `Sequential` (like all classes in `torch.nn`) inherits from `nn.Module`.\n",
    "You don't need to call anything; submodules are registered when assigned to fields.\n",
    "If you need to add layers programmatically, you can use `add_module()`.\n",
    "\n",
    "Finally, override `forward()` with your data transformation.\n",
    "Our module is a simple wrapper around `Sequential`, so we just ask `self.pipe` to transform the data.\n",
    "Apply modules by calling the instance itself, not by calling `forward()` directly.\n",
    "`nn.Module` overrides `__call__()`, which handles framework logic before invoking your `forward()`.\n",
    "Calling `forward()` yourself bypasses this and can lead to incorrect results.\n",
    "\n",
    "That's all we need to define our module.\n",
    "Now, let's use it.\n",
    "We instantiate our module with the required input and output sizes, create a tensor, and call the module to transform it.\n",
    "We then print the model to show its structure (via `__str__()`/`__repr__()`), and finally display the transformation result."
   ],
   "id": "6944cd53c042a52f"
  },
  {
   "metadata": {
    "ExecuteTime": {
     "end_time": "2025-10-30T17:06:24.409103Z",
     "start_time": "2025-10-30T17:06:24.389565Z"
    }
   },
   "cell_type": "code",
   "source": [
    "if __name__ == \"__main__\":\n",
    "    net = OurModule(num_inputs=2, num_classes=3)\n",
    "    print(net)\n",
    "\n",
    "    v = th.FloatTensor([[2, 3]])\n",
    "    out = net(v)\n",
    "    print(out)\n",
    "\n",
    "    print(\"MPS's availability is %s\" % th.mps.is_available())\n",
    "    if th.mps.is_available():\n",
    "        print(\"* Data from MPS: %s\" % out.to('mps'))"
   ],
   "id": "e432053855c0a198",
   "outputs": [
    {
     "name": "stdout",
     "output_type": "stream",
     "text": [
      "OurModule(\n",
      "  (pipe): Sequential(\n",
      "    (0): Linear(in_features=2, out_features=5, bias=True)\n",
      "    (1): ReLU()\n",
      "    (2): Linear(in_features=5, out_features=20, bias=True)\n",
      "    (3): ReLU()\n",
      "    (4): Linear(in_features=20, out_features=3, bias=True)\n",
      "    (5): Dropout(p=0.3, inplace=False)\n",
      "    (6): Softmax(dim=1)\n",
      "  )\n",
      ")\n",
      "tensor([[0.3726, 0.4186, 0.2088]], grad_fn=<SoftmaxBackward0>)\n",
      "MPS's availability is True\n",
      "* Data from MPS: tensor([[0.3726, 0.4186, 0.2088]], device='mps:0', grad_fn=<ToCopyBackward0>)\n"
     ]
    }
   ],
   "execution_count": 31
  },
  {
   "metadata": {},
   "cell_type": "markdown",
   "source": [
    "PyTorch remains fully dynamic.\n",
    "The `forward()` method runs on every batch, so you can implement data‑dependent logic such as hierarchical softmax or randomly selecting a subnetwork.\n",
    "Your module can also accept multiple arguments and many optional parameters.\n"
   ],
   "id": "fbb1373eeb6ffae"
  },
  {
   "metadata": {
    "ExecuteTime": {
     "end_time": "2025-10-29T12:31:24.374084Z",
     "start_time": "2025-10-29T12:31:24.372564Z"
    }
   },
   "cell_type": "markdown",
   "source": [
    "## Loss Functions and Optimizers\n",
    "\n",
    "We cover now two core parts of PyTorch that simplify training: loss functions and optimisers.\n",
    "\n",
    "A network that maps inputs to outputs isn't enough for training.\n",
    "We also need a learning objective: a function that takes the model's output and the target, and returns a single number indicating how close the prediction is.\n",
    "This is the loss function, and its output is the loss value.\n",
    "We use this loss to compute parameter gradients and update them to reduce the loss, improving the model over time.\n",
    "Because loss functions and gradient‑based updates are so common and varied, PyTorch provides many built‑in options.\n",
    "\n",
    "### Loss Functions\n",
    "\n",
    "Loss functions live in the `nn` package as subclasses of `nn.Module`.\n",
    "They typically take two inputs: the model's prediction and the target (ground truth or label).\n",
    "PyTorch provides many built‑in losses, and you can define your own.\n",
    "\n",
    "Common choices include:\n",
    "- `nn.MSELoss`: mean squared error; standard for regression.\n",
    "- `nn.BCELoss` and `nn.BCEWithLogitsLoss`: binary cross‑entropy.\n",
    "  The former expects a probability (often after a `Sigmoid`); the latter takes raw scores and applies `Sigmoid` internally, which is usually more stable and efficient.\n",
    "- `nn.CrossEntropyLoss` and `nn.NLLLoss`: multi‑class classification.\n",
    "  `CrossEntropy` takes raw class scores and applies `LogSoftmax` internally; `NLLLoss` expects log probabilities.\n",
    "\n",
    "### Optimizers\n",
    "\n",
    "An optimiser updates model parameters using their gradients to reduce the loss, nudging the model towards better predictions.\n",
    "Though the idea is simple, the details matter, and optimisation remains an active research area.\n",
    "\n",
    "PyTorch’s `torch.optim` includes many popular choices, such as:\n",
    "\n",
    "- `SGD`: stochastic gradient descent, with optional momentum\n",
    "- `RMSprop`: an adaptive method from Geoffrey Hinton\n",
    "- `Adagrad`: adaptive gradients\n",
    "- `Adam`: a widely used blend of `RMSprop` and `Adagrad` ideas\n",
    "\n",
    "All optimisers share a common interface, so you can swap them easily and compare convergence and results.\n",
    "When creating one, pass an iterable of parameters to update—typically `model.parameters()` from your top‑level `nn.Module`.\n",
    "\n",
    "The typical training loop is as follows:\n",
    "\n",
    "```python:\n",
    "1  for batch_x, batch_y in iterate_batches(data, batch_size=N):\n",
    "2      batch_x_t = torch.tensor(batch_x)\n",
    "3      batch_y_t = torch.tensor(batch_y)\n",
    "4      out_t = net(batch_x_t)\n",
    "5      loss_t = loss_function(out_t, batch_y_t).\n",
    "6      loss_t.backward()\n",
    "7      optimizer.step()\n",
    "8      optimizer.zero_grad()\n",
    "```\n",
    "\n",
    "Training typically loops over the dataset multiple times; one full pass is an epoch.\n",
    "Because datasets rarely fit in memory, we split them into equal‑sized batches.\n",
    "Each batch contains input samples and target labels, both as tensors (line 2 and 3).\n",
    "\n",
    "For each batch, pass the inputs through the network (line 4), then feed the outputs and labels to the loss function (line 5).\n",
    "The loss is a single tensor value measuring how far the predictions are from the targets.\n",
    "The network's computations and the loss form a graph of tensor operations.\n",
    "\n",
    "Autograd tracks this graph.\n",
    "To compute gradients for all parameters, call `backward()` on the loss (line 6).\n",
    "Gradients accumulate in each parameter's `grad` field, even if a tensor is used multiple times (as with a **recurrent neural network (RNN)** cell).\n",
    "\n",
    "After `loss.backward()` finishes, call the optimiser's `step()` (line 7) to update parameters using their gradients.\n",
    "You must also clear old gradients with `zero_grad()` (line 8).\n",
    "You can call it on the model or the optimiser, and it’s fine to place it at either the start or end of the loop.\n",
    "\n",
    "This setup is flexible and supports advanced use cases, such as using two optimisers on different models in the same training (common in **generative adversarial networks (GANs)**)."
   ],
   "id": "b13560a377e6b55b"
  },
  {
   "metadata": {},
   "cell_type": "markdown",
   "source": [
    "## Monitoring with TensorBoard\n",
    "\n",
    "Lorem ipsum.\n",
    "\n",
    "### TensorBoard 101\n",
    "\n",
    "Lorem ipsum.\n",
    "\n",
    "### Plotting Metrics\n",
    "\n",
    "Lorem ipsum."
   ],
   "id": "aa745c953dc0ae5f"
  },
  {
   "metadata": {
    "ExecuteTime": {
     "end_time": "2025-10-29T12:31:24.569802Z",
     "start_time": "2025-10-29T12:31:24.568291Z"
    }
   },
   "cell_type": "code",
   "source": "",
   "id": "168dee19d563413",
   "outputs": [],
   "execution_count": null
  },
  {
   "metadata": {},
   "cell_type": "markdown",
   "source": [
    "## GAN on Atari Images\n",
    "\n",
    "Instead of relying on the MNIST dataset to show the power of DL, this section will use Generative Adversarial Networks (GANs) to generate screenshots of various Atari games.\n",
    "\n",
    "Generative Adversarial Networks (GANs) use two competing neural networks.\n",
    "One is a **generator** that creates synthetic data, a _\"cheater\"_.\n",
    "The other is a **discriminator** that tries to tell real data from fake, a _\"detective\"_.\n",
    "Through this adversarial process, the generator learns to produce increasingly realistic samples.\n",
    "Conversely, the discriminator becomes better at spotting fakes.\n",
    "Over time, both models improve by challenging each other.\n",
    "\n",
    "GANs are used to improve image quality, generate realistic images, and support feature learning for downstream tasks.\n",
    "In this case, there is practical value if not reinforcing what we have learned so far on PyTorch.\n"
   ],
   "id": "f7e80cddf27d592"
  },
  {
   "metadata": {
    "ExecuteTime": {
     "end_time": "2025-10-29T13:07:39.519079Z",
     "start_time": "2025-10-29T13:07:38.987648Z"
    }
   },
   "cell_type": "code",
   "source": "import gymnasium as gym",
   "id": "8b4efd3e4784f41e",
   "outputs": [],
   "execution_count": 13
  },
  {
   "metadata": {
    "ExecuteTime": {
     "end_time": "2025-10-29T13:08:38.153088Z",
     "start_time": "2025-10-29T13:08:38.149348Z"
    }
   },
   "cell_type": "code",
   "source": [
    "class InputWrapper(gym.ObservationWrapper):\n",
    "    \"\"\"\n",
    "    Preprocessing of input numpy array:\n",
    "    1. resize image into predefined size\n",
    "    2. move color channel axis to a first place\n",
    "    \"\"\"\n",
    "\n",
    "    def __init__(self, *args):\n",
    "        super(InputWrapper, self).__init__(*args)\n",
    "        old_space = self.observation_space\n",
    "        assert isinstance(old_space, spaces.Box)\n",
    "\n",
    "        self.observation_space = spaces.Box(\n",
    "            self.observation(old_space.low),\n",
    "            self.observation(old_space.high),\n",
    "            dtype=np.float32\n",
    "        )"
   ],
   "id": "712fff3e8c9628de",
   "outputs": [],
   "execution_count": 14
  },
  {
   "metadata": {},
   "cell_type": "code",
   "outputs": [],
   "execution_count": null,
   "source": "",
   "id": "9cd3b98af12b0b0d"
  },
  {
   "metadata": {},
   "cell_type": "markdown",
   "source": [
    "## PyTorch Ignite\n",
    "\n",
    "Lorem ipsum.\n",
    "\n",
    "### Ignite Concepts\n",
    "\n",
    "Lorem ipsum.\n",
    "\n",
    "### GAN Training on Atari using Ignite\n",
    "\n",
    "Lorem ipsum."
   ],
   "id": "3e44c46ea2d5cc84"
  },
  {
   "metadata": {},
   "cell_type": "code",
   "outputs": [],
   "execution_count": null,
   "source": "",
   "id": "e8de61bfe19a5d41"
  }
 ],
 "metadata": {
  "kernelspec": {
   "display_name": "Python 3",
   "language": "python",
   "name": "python3"
  },
  "language_info": {
   "codemirror_mode": {
    "name": "ipython",
    "version": 2
   },
   "file_extension": ".py",
   "mimetype": "text/x-python",
   "name": "python",
   "nbconvert_exporter": "python",
   "pygments_lexer": "ipython2",
   "version": "2.7.6"
  }
 },
 "nbformat": 4,
 "nbformat_minor": 5
}
